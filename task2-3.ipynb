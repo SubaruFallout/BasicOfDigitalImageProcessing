{
 "cells": [
  {
   "cell_type": "markdown",
   "metadata": {},
   "source": [
    "**2. Построение скелета бинарного изображения** <br>\n",
    "Разработать программу построения скелета бинарного изображения на основе преобразований утоньшения.\n",
    "\n",
    "Содержание отчета: <br>\n",
    "&emsp;Исходные изображения <br>\n",
    "&emsp;Код программы (для Jupiter Notebook) <br>\n",
    "&emsp;Результат работы программы <br>"
   ]
  },
  {
   "cell_type": "code",
   "execution_count": 1,
   "metadata": {},
   "outputs": [],
   "source": [
    "# Import the necessary libraries\n",
    "import cv2\n",
    "import numpy as np\n",
    "import matplotlib as mpl\n",
    "import os\n",
    "from matplotlib import pyplot as plt\n",
    "from scipy.ndimage import binary_dilation\n",
    "%matplotlib inline"
   ]
  },
  {
   "cell_type": "code",
   "execution_count": 2,
   "metadata": {},
   "outputs": [],
   "source": [
    "# Операция нахождения симметричного множества\n",
    "def symmetric(b):\n",
    "    return b\n",
    "\n",
    "\n",
    "# Операция та самая\n",
    "def target_op(x, t):\n",
    "    a = np.zeros(t.shape, np.uint8)\n",
    "    b = np.zeros(t.shape, np.uint8)\n",
    "    a[t == 0] = 1\n",
    "    b[t == 1] = 1\n",
    "\n",
    "    result_part1 = cv2.erode(x, a)\n",
    "    result_part2 = binary_dilation(x, b).astype(x.dtype)\n",
    "\n",
    "\n",
    "# Операция утоньшения\n",
    "def thinning(x, t):\n",
    "    return cv2.subtract(x, target_op(x, t))\n"
   ]
  },
  {
   "cell_type": "code",
   "execution_count": null,
   "metadata": {},
   "outputs": [],
   "source": [
    "def skeleton(img):\n",
    "    kernels = []\n",
    "    kernels.append(np.array([[1, 1, 1], \n",
    "                            [2, 1, 2], \n",
    "                            [0, 0, 0]]))\n",
    "    kernels.append(np.array([[2, 1, 2], \n",
    "                            [0, 1, 1], \n",
    "                            [0, 0, 2]]))\n",
    "\n",
    "    for i in range(6):\n",
    "        kernels.append(cv)\n",
    "    \n",
    "    while True:\n",
    "        prev = img.copy()\n",
    "        for kernel in kernels:\n",
    "            img = thinning(img, kernel)\n",
    "        if np.equal(prev, img):\n",
    "            break\n",
    "\n",
    "    plt.imshow(img)\n",
    "    plt.show()"
   ]
  }
 ],
 "metadata": {
  "kernelspec": {
   "display_name": "Python 3.10.5 64-bit",
   "language": "python",
   "name": "python3"
  },
  "language_info": {
   "codemirror_mode": {
    "name": "ipython",
    "version": 3
   },
   "file_extension": ".py",
   "mimetype": "text/x-python",
   "name": "python",
   "nbconvert_exporter": "python",
   "pygments_lexer": "ipython3",
   "version": "3.10.5"
  },
  "orig_nbformat": 4,
  "vscode": {
   "interpreter": {
    "hash": "3c5898a0b4b949a4bc87f8c0b1520654b5e21d376487be84822f0fd3c48aaf05"
   }
  }
 },
 "nbformat": 4,
 "nbformat_minor": 2
}
