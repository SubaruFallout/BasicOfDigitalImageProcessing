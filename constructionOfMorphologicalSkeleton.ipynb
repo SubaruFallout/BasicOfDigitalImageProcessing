{
  "cells": [
    {
      "cell_type": "markdown",
      "metadata": {
        "colab_type": "text",
        "id": "view-in-github"
      },
      "source": [
        "<a href=\"https://colab.research.google.com/github/SubaruFallout/BasicOfDigitalImageProcessing/blob/master/constructionOfMorphologicalSkeleton.ipynb\" target=\"_parent\"><img src=\"https://colab.research.google.com/assets/colab-badge.svg\" alt=\"Open In Colab\"/></a>"
      ]
    },
    {
      "cell_type": "markdown",
      "metadata": {},
      "source": [
        "**1. Построение морфологического скелета** <br>\n",
        "Разработать программу построения морфологического скелета изображения и восстановления изображения по морфологическому скелету для бинарных изображений и различных структурирующих элементов.\n",
        "\n",
        "Содержание отчета: <br>\n",
        "&emsp;Исходные изображения <br>\n",
        "&emsp;Код программы (для Jupiter Notebook) <br>\n",
        "&emsp;Результат работы программы <br>\n",
        "&emsp;Срок 01.11.2022 <br>"
      ]
    },
    {
      "cell_type": "code",
      "execution_count": 3,
      "metadata": {
        "colab": {
          "base_uri": "https://localhost:8080/"
        },
        "id": "dtg_NAxTLQJM",
        "outputId": "4854718c-6255-4bfc-a2e3-9fefbeac2da4"
      },
      "outputs": [],
      "source": [
        "# import the necessary libraries\n",
        "import cv2\n",
        "import numpy as np"
      ]
    },
    {
      "cell_type": "code",
      "execution_count": 5,
      "metadata": {},
      "outputs": [],
      "source": [
        "# read image\n",
        "img = cv2.imread(\"resouces/rose_binary.png\")\n",
        "cv2.imshow(\"rose\", img)\n",
        "cv2.waitKey(0)\n",
        "\n",
        "cv2.destroyAllWindows()"
      ]
    }
  ],
  "metadata": {
    "colab": {
      "authorship_tag": "ABX9TyPMgdI3exjQPq7qWkKldTNk",
      "collapsed_sections": [],
      "include_colab_link": true,
      "provenance": []
    },
    "kernelspec": {
      "display_name": "Python 3.10.5 64-bit",
      "language": "python",
      "name": "python3"
    },
    "language_info": {
      "codemirror_mode": {
        "name": "ipython",
        "version": 3
      },
      "file_extension": ".py",
      "mimetype": "text/x-python",
      "name": "python",
      "nbconvert_exporter": "python",
      "pygments_lexer": "ipython3",
      "version": "3.10.5"
    },
    "vscode": {
      "interpreter": {
        "hash": "3c5898a0b4b949a4bc87f8c0b1520654b5e21d376487be84822f0fd3c48aaf05"
      }
    }
  },
  "nbformat": 4,
  "nbformat_minor": 0
}
