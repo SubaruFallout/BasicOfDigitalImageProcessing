{
  "cells": [
    {
      "cell_type": "markdown",
      "metadata": {
        "colab_type": "text",
        "id": "view-in-github"
      },
      "source": [
        "<a href=\"https://colab.research.google.com/github/SubaruFallout/BasicOfDigitalImageProcessing/blob/master/constructionOfMorphologicalSkeleton.ipynb\" target=\"_parent\"><img src=\"https://colab.research.google.com/assets/colab-badge.svg\" alt=\"Open In Colab\"/></a>"
      ]
    },
    {
      "cell_type": "markdown",
      "metadata": {},
      "source": [
        "**1. Построение морфологического скелета** <br>\n",
        "Разработать программу построения морфологического скелета изображения и восстановления изображения по морфологическому скелету для бинарных изображений и различных структурирующих элементов.\n",
        "\n",
        "Содержание отчета: <br>\n",
        "&emsp;Исходные изображения <br>\n",
        "&emsp;Код программы (для Jupiter Notebook) <br>\n",
        "&emsp;Результат работы программы <br>\n",
        "&emsp;Срок 01.11.2022 <br>"
      ]
    },
    {
      "cell_type": "code",
      "execution_count": 120,
      "metadata": {
        "colab": {
          "base_uri": "https://localhost:8080/"
        },
        "id": "dtg_NAxTLQJM",
        "outputId": "4854718c-6255-4bfc-a2e3-9fefbeac2da4"
      },
      "outputs": [],
      "source": [
        "# import the necessary libraries\n",
        "%matplotlib inline\n",
        "import cv2\n",
        "import numpy as np\n",
        "import os\n",
        "from matplotlib import pyplot as plt"
      ]
    },
    {
      "cell_type": "code",
      "execution_count": 125,
      "metadata": {},
      "outputs": [],
      "source": [
        "# Skeleton construction algorithm\n",
        "# Return skeletal subset\n",
        "def constructSkelet(orig_img, struct_element):\n",
        "    img = orig_img.copy()\n",
        "    skelets = []\n",
        "\n",
        "    while True:\n",
        "        eroded_img = cv2.erode(img, struct_element)\n",
        "        if cv2.countNonZero(eroded_img) == 0:\n",
        "            skelets.append(img)\n",
        "            break\n",
        "\n",
        "        opened_img = cv2.dilate(eroded_img, struct_element)\n",
        "        skelets.append(cv2.subtract(img, opened_img))\n",
        "        img = eroded_img.copy()\n",
        "\n",
        "    return skelets"
      ]
    },
    {
      "cell_type": "code",
      "execution_count": 124,
      "metadata": {},
      "outputs": [],
      "source": [
        "# Recovery image from skelet\n",
        "# Return recovered image\n",
        "def recoverFromSkelet(skelets, struct_element):\n",
        "    img = np.zeros(skelets[0].shape, np.uint8)\n",
        "    n = len(skelets)\n",
        "    n -= 1\n",
        "\n",
        "    while True:\n",
        "        img = cv2.bitwise_or(img, skelets[n])\n",
        "        if n == 0:\n",
        "            break\n",
        "\n",
        "        img = cv2.dilate(img, struct_element)\n",
        "        n -= 1\n",
        "    \n",
        "    return img"
      ]
    },
    {
      "cell_type": "code",
      "execution_count": null,
      "metadata": {},
      "outputs": [],
      "source": [
        "# For every image make skelet, recover from skelet, show results in code\n",
        "def run(files, struct_element):\n",
        "    for file in files:\n",
        "        img = cv2.imread(file, cv2.IMREAD_GRAYSCALE)\n",
        "\n",
        "        skelets = constructSkelet(img, struct_element)\n",
        "\n",
        "        recovered_img = recoverFromSkelet(skelets, struct_element)\n",
        "\n",
        "        # make normal skelet\n",
        "        full_skelet = \n"
      ]
    },
    {
      "cell_type": "markdown",
      "metadata": {},
      "source": [
        "**Starting point**"
      ]
    },
    {
      "cell_type": "code",
      "execution_count": 117,
      "metadata": {},
      "outputs": [],
      "source": [
        "# Get image names\n",
        "directory = \"binary_images\"\n",
        "files = []\n",
        "\n",
        "for filename in os.listdir(directory):\n",
        "    files.append(os.path.join(directory, filename))"
      ]
    }
  ],
  "metadata": {
    "colab": {
      "authorship_tag": "ABX9TyPMgdI3exjQPq7qWkKldTNk",
      "collapsed_sections": [],
      "include_colab_link": true,
      "provenance": []
    },
    "kernelspec": {
      "display_name": "Python 3.10.5 64-bit",
      "language": "python",
      "name": "python3"
    },
    "language_info": {
      "codemirror_mode": {
        "name": "ipython",
        "version": 3
      },
      "file_extension": ".py",
      "mimetype": "text/x-python",
      "name": "python",
      "nbconvert_exporter": "python",
      "pygments_lexer": "ipython3",
      "version": "3.10.5"
    },
    "vscode": {
      "interpreter": {
        "hash": "3c5898a0b4b949a4bc87f8c0b1520654b5e21d376487be84822f0fd3c48aaf05"
      }
    }
  },
  "nbformat": 4,
  "nbformat_minor": 0
}
